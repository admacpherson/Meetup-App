{
 "cells": [
  {
   "cell_type": "markdown",
   "metadata": {},
   "source": [
    "<p>Credit to http://www.gadgetsappshacks.com/2015/09/how-to-draw-travel-time-boundary-on.html for part 2</p>"
   ]
  },
  {
   "cell_type": "code",
   "execution_count": 1,
   "metadata": {},
   "outputs": [],
   "source": [
    "import gmaps\n",
    "import gmaps.datasets\n",
    "from datetime import datetime\n",
    "import requests, json \n",
    "import math as Math"
   ]
  },
  {
   "cell_type": "code",
   "execution_count": 2,
   "metadata": {},
   "outputs": [],
   "source": [
    "#Store API Key to variable 'key'\n",
    "with open('API Key.txt') as f:\n",
    "    key = f.readline()\n",
    "    f.close"
   ]
  },
  {
   "cell_type": "code",
   "execution_count": 3,
   "metadata": {},
   "outputs": [],
   "source": [
    "#Configure with API Key and set variable 'now' to current time\n",
    "gmaps.configure(api_key='XXXXXXX')\n",
    "now = datetime.now()"
   ]
  },
  {
   "cell_type": "code",
   "execution_count": 4,
   "metadata": {},
   "outputs": [],
   "source": [
    "#Sample map\n",
    "new_york_coordinates = (40.75, -74.00)\n",
    "#gmaps.figure(center=new_york_coordinates, zoom_level=12)"
   ]
  },
  {
   "cell_type": "code",
   "execution_count": 5,
   "metadata": {},
   "outputs": [],
   "source": [
    "#Sample map displaying route\n",
    "#Define location 1 and 2\n",
    "Durango = (37.2753,-107.880067)\n",
    "SF = (37.7749,-122.419416)\n",
    "#Create the map\n",
    "fig = gmaps.figure()\n",
    "#create the layer\n",
    "layer = gmaps.directions.Directions(Durango, SF,mode='car')\n",
    "#Add the layer\n",
    "fig.add_layer(layer)\n",
    "#fig"
   ]
  },
  {
   "cell_type": "code",
   "execution_count": 6,
   "metadata": {},
   "outputs": [],
   "source": [
    "#Sample map displaying route (with extra options)\n",
    "# Latitude-longitude pairs\n",
    "geneva = (46.2, 6.1)\n",
    "montreux = (46.4, 6.9)\n",
    "zurich = (47.4, 8.5)\n",
    "fig = gmaps.figure()\n",
    "geneva2zurich = gmaps.directions_layer(\n",
    "    geneva, zurich, travel_mode=\"BICYCLING\"\n",
    ")\n",
    "fig.add_layer(geneva2zurich)\n",
    "#fig"
   ]
  },
  {
   "cell_type": "code",
   "execution_count": 7,
   "metadata": {},
   "outputs": [],
   "source": [
    "#Converts given travel time to an integer\n",
    "def travelTimeInt(travelTime):\n",
    "    if type(travelTime) is not str:\n",
    "        pass\n",
    "    elif \"hour\" in travelTime:\n",
    "        idx = travelTime.find('hour')\n",
    "        travel_1 = travelTime[:idx-1]\n",
    "        travel_2 = travelTime[idx+5:-4]\n",
    "        travel_1 = int(travel_1)*60\n",
    "        travel_2 = int(travel_2)\n",
    "        travelTime = travel_1 + travel_2\n",
    "    else:\n",
    "        travelTime = travelTime[:-4]\n",
    "        travelTime = int(travelTime)\n",
    "    return travelTime"
   ]
  },
  {
   "cell_type": "code",
   "execution_count": 8,
   "metadata": {},
   "outputs": [],
   "source": [
    "#Calculates travel distance between two places\n",
    "def calcTravelDist(origin, dest, mode=\"driving\", avoid=\"tolls\", departure_time=\"now\"): #(can also avoid ferries)\n",
    "    r = requests.get('https://maps.googleapis.com/maps/api/distancematrix/json?origins=' + origin +\n",
    "                   '&destinations=' + dest +\n",
    "                   '&key=' + key +\n",
    "                    '&units=imperial' +\n",
    "                    '&mode=' + mode +\n",
    "                    '&avoid=' + avoid +\n",
    "                    '&departure_time=' + departure_time\n",
    "                    ) \n",
    "    x = r.json() \n",
    "    #return x\n",
    "    return(x[\"rows\"][0]['elements'][0]['distance']['text'])"
   ]
  },
  {
   "cell_type": "code",
   "execution_count": 9,
   "metadata": {},
   "outputs": [],
   "source": [
    "#Calculates travel time between two places\n",
    "def calcTravelTime(origin, dest, mode=\"driving\", avoid=\"tolls\", departure_time=\"now\"): #(can also avoid ferries)\n",
    "    r = requests.get('https://maps.googleapis.com/maps/api/distancematrix/json?origins=' + origin +\n",
    "                   '&destinations=' + dest +\n",
    "                   '&key=' + key +\n",
    "                    '&units=imperial' +\n",
    "                    '&mode=' + mode +\n",
    "                    '&avoid=' + avoid +\n",
    "                    '&departure_time=' + departure_time\n",
    "                    ) \n",
    "    x = r.json()\n",
    "    if (x[\"rows\"][0]['elements'][0]['status'][0]) is str:\n",
    "        print(\"STATUS:\" + x[\"rows\"][0]['elements'][0]['status'])\n",
    "        print(x) \n",
    "        pass\n",
    "    else:\n",
    "        print(\"STATUS:\" + str((x[\"rows\"][0]['elements'][0]['status'])))\n",
    "        if 'OK' in (x[\"rows\"][0]['elements'][0]['status']):\n",
    "            print(\"RETURNING:\" + str(travelTimeInt(x[\"rows\"][0]['elements'][0]['duration']['text'])))\n",
    "            return(travelTimeInt(x[\"rows\"][0]['elements'][0]['duration']['text']))\n",
    "        else:\n",
    "            print(\"NOT RETURNING\")\n",
    "            pass\n",
    "    "
   ]
  },
  {
   "cell_type": "code",
   "execution_count": 10,
   "metadata": {},
   "outputs": [],
   "source": [
    "#Testing of functions\n",
    "#print(calcTravelDist(\"durango\", \"san francisco\"))\n",
    "#print(calcTravelTime(\"durango\", \"san francisco\"))"
   ]
  },
  {
   "cell_type": "markdown",
   "metadata": {},
   "source": [
    "<h2>Phase 2: Creating Travel Time Radius</h2>"
   ]
  },
  {
   "cell_type": "code",
   "execution_count": 11,
   "metadata": {},
   "outputs": [
    {
     "data": {
      "text/plain": [
       "[(51.530318, -0.123026), (51.530078, -0.123614)]"
      ]
     },
     "execution_count": 11,
     "metadata": {},
     "output_type": "execute_result"
    }
   ],
   "source": [
    "#Sample map polygon\n",
    "london_congestion_zone_path = gmaps.datasets.load_dataset('london_congestion_zone')\n",
    "london_congestion_zone_path[:2]"
   ]
  },
  {
   "cell_type": "code",
   "execution_count": 12,
   "metadata": {},
   "outputs": [],
   "source": [
    "#Sample map with polygon displayed\n",
    "fig = gmaps.figure(center=(51.5, -0.1), zoom_level=12) \n",
    "london_congestion_zone_polygon = gmaps.Polygon(\n",
    "    london_congestion_zone_path, stroke_color='red', fill_color='blue'\n",
    ")\n",
    "drawing = gmaps.drawing_layer(\n",
    "    features=[london_congestion_zone_polygon],\n",
    "    show_controls=False )\n",
    "fig.add_layer(drawing)\n",
    "#fig"
   ]
  },
  {
   "cell_type": "markdown",
   "metadata": {},
   "source": [
    "<ol>\n",
    "<li>Ask Google for the LatLng (Latitude and Longitude) of the starting address</li>\n",
    "<li>Calculate the LatLng of a set of evenly spaced destinations around the origin</li>\n",
    "<li>Ask Google for the travel time to each of those destinations</li>\n",
    "<li>Calculate a new distance estimate for each bearing based on this travel time</li>\n",
    "<li>Repeat steps 3 and 4 for a given number of iterations</li>\n",
    "<li>Pick the destinations at each bearing with the travel time closest to that entered</li>\n",
    "<li>Draw this boundary on the map</li>\n",
    "</ol>"
   ]
  },
  {
   "cell_type": "code",
   "execution_count": 13,
   "metadata": {},
   "outputs": [],
   "source": [
    "#Converts address to lat/lng\n",
    "def getGeoCodes(address):\n",
    "    r = requests.get('https://maps.googleapis.com/maps/api/geocode/json?' +\n",
    "                       '&address=' + address +\n",
    "                       '&key=' + key\n",
    "                        ) \n",
    "    x = r.json() \n",
    "    return(x['results'][0]['geometry']['location']['lat'], x['results'][0]['geometry']['location']['lng'])"
   ]
  },
  {
   "cell_type": "code",
   "execution_count": 14,
   "metadata": {},
   "outputs": [
    {
     "name": "stdout",
     "output_type": "stream",
     "text": [
      "(47.7583576, -122.2496863)\n"
     ]
    }
   ],
   "source": [
    "#Testing function\n",
    "#address = '1600 Amphitheatre Parkway, Mountain View, CA'\n",
    "#print(getGeoCodes('1600 Amphitheatre Parkway, Mountain View, CA'))\n",
    "\n",
    "address = '500 W Emerson St, Seattle, WA'\n",
    "print(getGeoCodes('kenmore, WA'))"
   ]
  },
  {
   "cell_type": "code",
   "execution_count": 15,
   "metadata": {},
   "outputs": [],
   "source": [
    "#Calculates the lat/lng of a place (distance) miles away from the origin\n",
    "def calculateDestination(origin, distance, bearing):\n",
    "    earthRadius = 3959;\n",
    "    lat, lng = getGeoCodes(origin)\n",
    "    lat *=  Math.pi / 180;\n",
    "    lng *= Math.pi / 180;\n",
    "    destLat = Math.asin( Math.sin(lat) * Math.cos(distance/earthRadius) +\n",
    "                           Math.cos(lat) * Math.sin(distance/earthRadius) * \n",
    "                           Math.cos(bearing) );\n",
    "    destLng = lng + Math.atan2( Math.sin(bearing) * \n",
    "                                  Math.sin(distance/earthRadius) * Math.cos(lat),\n",
    "                                  Math.cos(distance/earthRadius) - Math.sin(lat) *\n",
    "                                  Math.sin(destLat) );\n",
    "    #return {lat: destLat * 180 / Math.pi, lng: destLng * 180 / Math.pi};\n",
    "    return {destLat * 180 / Math.pi, destLng * 180 / Math.pi};"
   ]
  },
  {
   "cell_type": "code",
   "execution_count": 16,
   "metadata": {},
   "outputs": [
    {
     "name": "stdout",
     "output_type": "stream",
     "text": [
      "{-122.36389800000002, 47.79564625807799}\n",
      "(47.6509234, -122.363898)\n"
     ]
    }
   ],
   "source": [
    "#Testing function\n",
    "print(calculateDestination(address, 10, 0))\n",
    "print(getGeoCodes(address))"
   ]
  },
  {
   "cell_type": "code",
   "execution_count": 17,
   "metadata": {},
   "outputs": [
    {
     "name": "stdout",
     "output_type": "stream",
     "text": [
      "26.8 mi\n",
      "STATUS:OK\n",
      "RETURNING:33\n",
      "33\n"
     ]
    }
   ],
   "source": [
    "#Testing function\n",
    "#Different from below because toll is one way and origin/dest are flipped\n",
    "print(calcTravelDist('37.566788458078015, -122.08408970000002', '37.4220656, -122.0840897'))\n",
    "print(calcTravelTime('37.566788458078015, -122.08408970000002', '37.4220656, -122.0840897'))"
   ]
  },
  {
   "cell_type": "code",
   "execution_count": 18,
   "metadata": {},
   "outputs": [],
   "source": [
    "#Converts lat/lng to format that functions for calculating distance/travel time can understand\n",
    "def convertGeoCodes(coords):\n",
    "    coords = str(coords)\n",
    "    coords = coords[1:-1]\n",
    "    return coords"
   ]
  },
  {
   "cell_type": "code",
   "execution_count": 19,
   "metadata": {},
   "outputs": [
    {
     "name": "stdout",
     "output_type": "stream",
     "text": [
      "47.6509234, -122.363898\n",
      "-122.36389800000002, 47.79564625807799\n"
     ]
    }
   ],
   "source": [
    "#Testing function\n",
    "print(convertGeoCodes(getGeoCodes(address)))\n",
    "print(convertGeoCodes(calculateDestination(address, 10, 0)))"
   ]
  },
  {
   "cell_type": "code",
   "execution_count": 20,
   "metadata": {},
   "outputs": [
    {
     "ename": "KeyError",
     "evalue": "'distance'",
     "output_type": "error",
     "traceback": [
      "\u001b[0;31m---------------------------------------------------------------------------\u001b[0m",
      "\u001b[0;31mKeyError\u001b[0m                                  Traceback (most recent call last)",
      "\u001b[0;32m<ipython-input-20-ec851e90bfbc>\u001b[0m in \u001b[0;36m<module>\u001b[0;34m\u001b[0m\n\u001b[1;32m      2\u001b[0m \u001b[0morigin\u001b[0m \u001b[0;34m=\u001b[0m \u001b[0mconvertGeoCodes\u001b[0m\u001b[0;34m(\u001b[0m\u001b[0mgetGeoCodes\u001b[0m\u001b[0;34m(\u001b[0m\u001b[0maddress\u001b[0m\u001b[0;34m)\u001b[0m\u001b[0;34m)\u001b[0m\u001b[0;34m\u001b[0m\u001b[0;34m\u001b[0m\u001b[0m\n\u001b[1;32m      3\u001b[0m \u001b[0mdest\u001b[0m \u001b[0;34m=\u001b[0m \u001b[0mconvertGeoCodes\u001b[0m\u001b[0;34m(\u001b[0m\u001b[0mcalculateDestination\u001b[0m\u001b[0;34m(\u001b[0m\u001b[0maddress\u001b[0m\u001b[0;34m,\u001b[0m \u001b[0;36m10\u001b[0m\u001b[0;34m,\u001b[0m \u001b[0;36m0\u001b[0m\u001b[0;34m)\u001b[0m\u001b[0;34m)\u001b[0m\u001b[0;34m\u001b[0m\u001b[0;34m\u001b[0m\u001b[0m\n\u001b[0;32m----> 4\u001b[0;31m \u001b[0mprint\u001b[0m\u001b[0;34m(\u001b[0m\u001b[0mcalcTravelDist\u001b[0m\u001b[0;34m(\u001b[0m\u001b[0morigin\u001b[0m\u001b[0;34m,\u001b[0m \u001b[0mdest\u001b[0m\u001b[0;34m)\u001b[0m\u001b[0;34m)\u001b[0m\u001b[0;34m\u001b[0m\u001b[0;34m\u001b[0m\u001b[0m\n\u001b[0m\u001b[1;32m      5\u001b[0m \u001b[0mprint\u001b[0m\u001b[0;34m(\u001b[0m\u001b[0mcalcTravelTime\u001b[0m\u001b[0;34m(\u001b[0m\u001b[0morigin\u001b[0m\u001b[0;34m,\u001b[0m \u001b[0mdest\u001b[0m\u001b[0;34m)\u001b[0m\u001b[0;34m)\u001b[0m\u001b[0;34m\u001b[0m\u001b[0;34m\u001b[0m\u001b[0m\n",
      "\u001b[0;32m<ipython-input-8-670b6ec9939d>\u001b[0m in \u001b[0;36mcalcTravelDist\u001b[0;34m(origin, dest, mode, avoid, departure_time)\u001b[0m\n\u001b[1;32m     11\u001b[0m     \u001b[0mx\u001b[0m \u001b[0;34m=\u001b[0m \u001b[0mr\u001b[0m\u001b[0;34m.\u001b[0m\u001b[0mjson\u001b[0m\u001b[0;34m(\u001b[0m\u001b[0;34m)\u001b[0m\u001b[0;34m\u001b[0m\u001b[0;34m\u001b[0m\u001b[0m\n\u001b[1;32m     12\u001b[0m     \u001b[0;31m#return x\u001b[0m\u001b[0;34m\u001b[0m\u001b[0;34m\u001b[0m\u001b[0;34m\u001b[0m\u001b[0m\n\u001b[0;32m---> 13\u001b[0;31m     \u001b[0;32mreturn\u001b[0m\u001b[0;34m(\u001b[0m\u001b[0mx\u001b[0m\u001b[0;34m[\u001b[0m\u001b[0;34m\"rows\"\u001b[0m\u001b[0;34m]\u001b[0m\u001b[0;34m[\u001b[0m\u001b[0;36m0\u001b[0m\u001b[0;34m]\u001b[0m\u001b[0;34m[\u001b[0m\u001b[0;34m'elements'\u001b[0m\u001b[0;34m]\u001b[0m\u001b[0;34m[\u001b[0m\u001b[0;36m0\u001b[0m\u001b[0;34m]\u001b[0m\u001b[0;34m[\u001b[0m\u001b[0;34m'distance'\u001b[0m\u001b[0;34m]\u001b[0m\u001b[0;34m[\u001b[0m\u001b[0;34m'text'\u001b[0m\u001b[0;34m]\u001b[0m\u001b[0;34m)\u001b[0m\u001b[0;34m\u001b[0m\u001b[0;34m\u001b[0m\u001b[0m\n\u001b[0m",
      "\u001b[0;31mKeyError\u001b[0m: 'distance'"
     ]
    }
   ],
   "source": [
    "#Testing function\n",
    "origin = convertGeoCodes(getGeoCodes(address))\n",
    "dest = convertGeoCodes(calculateDestination(address, 10, 0))\n",
    "print(calcTravelDist(origin, dest))\n",
    "print(calcTravelTime(origin, dest))"
   ]
  },
  {
   "cell_type": "code",
   "execution_count": null,
   "metadata": {},
   "outputs": [],
   "source": [
    "#Testing function\n",
    "print(travelTimeInt((calcTravelTime(origin, dest))))\n",
    "print(travelTimeInt('16 hours 41 mins'))"
   ]
  },
  {
   "cell_type": "code",
   "execution_count": null,
   "metadata": {},
   "outputs": [],
   "source": [
    "#Finds accurate point within travel time\n",
    "distance = 10\n",
    "timeRange = 30\n",
    "bearing = 0\n",
    "coords = calculateDestination(origin, distance, bearing)\n",
    "coords = convertGeoCodes(coords)\n",
    "travelTime = calcTravelTime(origin, coords)\n",
    "travelTime = travelTimeInt(travelTime)\n",
    "for i in range(10):\n",
    "    if travelTime > timeRange:\n",
    "        distance *= 0.9\n",
    "        coords = calculateDestination(origin, distance, bearing)\n",
    "        coords = convertGeoCodes(coords)\n",
    "        travelTime = calcTravelTime(origin, coords)\n",
    "        travelTime = travelTimeInt(travelTime)\n",
    "    if travelTime < timeRange:\n",
    "        distance /= 0.85\n",
    "        coords = calculateDestination(origin, distance, bearing)\n",
    "        coords = convertGeoCodes(coords)\n",
    "        travelTime = calcTravelTime(origin, coords)\n",
    "        travelTime = travelTimeInt(travelTime)"
   ]
  },
  {
   "cell_type": "code",
   "execution_count": null,
   "metadata": {},
   "outputs": [],
   "source": [
    "#Finds accurate point within travel time\n",
    "def refinePoint(origin, bearing=0, distance=5, timeRange=20):\n",
    "    coords = calculateDestination(origin, distance, bearing)\n",
    "    coords = convertGeoCodes(calculateDestination(origin, distance, bearing))\n",
    "    print(origin)\n",
    "    print(coords)\n",
    "    travelTime = calcTravelTime(origin, coords) #Error spot\n",
    "    print(travelTime)\n",
    "    travelTime = travelTimeInt(calcTravelTime(origin, coords))\n",
    "    times = []\n",
    "    counter = 0\n",
    "    if type(travelTime) is not int:\n",
    "        print(\"NOT INT: \" + str(type(travelTime)))\n",
    "        pass\n",
    "    else:\n",
    "        while((travelTime > timeRange+10) or (travelTime < timeRange-10)):\n",
    "            if counter > 10:\n",
    "                print(\"COUNTER\")\n",
    "                counter = 0\n",
    "                pass\n",
    "            elif travelTime > timeRange:\n",
    "                distance *= (0.9)\n",
    "                coords = calculateDestination(origin, distance, bearing)\n",
    "                coords = convertGeoCodes(coords)\n",
    "                travelTime = calcTravelTime(origin, coords)\n",
    "                travelTime = travelTimeInt(travelTime)\n",
    "                counter += 1\n",
    "            elif travelTime < timeRange:\n",
    "                distance /= (0.85)\n",
    "                coords = calculateDestination(origin, distance, bearing)\n",
    "                coords = convertGeoCodes(coords)\n",
    "                travelTime = calcTravelTime(origin, coords)\n",
    "                travelTime = travelTimeInt(travelTime)\n",
    "                #Appending times to see different options it works through\n",
    "                times.append(travelTime)\n",
    "                counter += 1\n",
    "        travelDist = calcTravelDist(origin, coords)\n",
    "        #print(\"TRAVEL TIME:\" + travelTime)\n",
    "        print(\"COUNTER COUNT: \" + str(counter))\n",
    "        \n",
    "        #print(travelDist)\n",
    "        return coords"
   ]
  },
  {
   "cell_type": "code",
   "execution_count": null,
   "metadata": {},
   "outputs": [],
   "source": [
    "#Testing function\n",
    "print(refinePoint(address)) #FLAGGED FOR ERROR"
   ]
  },
  {
   "cell_type": "code",
   "execution_count": null,
   "metadata": {},
   "outputs": [],
   "source": [
    "print(getGeoCodes('XXXX'))"
   ]
  },
  {
   "cell_type": "code",
   "execution_count": null,
   "metadata": {},
   "outputs": [],
   "source": [
    "print(calcTravelTime('32.682901110000, -108.0170992', '31.75717582903902, -110.01809920000002'))"
   ]
  },
  {
   "cell_type": "code",
   "execution_count": null,
   "metadata": {},
   "outputs": [],
   "source": [
    "#Finds points in a circle to create drive time polygon (starts at 0 and finds nearest point every 90 degrees)\n",
    "def getCircle(address):\n",
    "    print(address)\n",
    "    circle = []\n",
    "    for i in range(0, 360, 15):\n",
    "        circle.append(refinePoint(address, i))\n",
    "        print(circle)\n",
    "    return circle"
   ]
  },
  {
   "cell_type": "code",
   "execution_count": null,
   "metadata": {},
   "outputs": [],
   "source": [
    "circle = getCircle('350 S Garey Ave, Pomona, CA 91766')\n",
    "print(circle)"
   ]
  },
  {
   "cell_type": "code",
   "execution_count": null,
   "metadata": {},
   "outputs": [],
   "source": [
    "#Converts polygon coordinates to float form and places them in list\n",
    "def convertToPairs(circle):\n",
    "    newCoords = []\n",
    "    for coord in circle:\n",
    "        if type(coord) is not str:\n",
    "            print(\"Can't convert:\" + str(type(coord)))\n",
    "            pass\n",
    "        else:\n",
    "            #print(str(type(coord))) DEBUGGING\n",
    "            idx = coord.find(',')\n",
    "            coordPair = (float(coord[:idx]), float(coord[idx+2:]))\n",
    "            #coordPair.push_back(lat)\n",
    "            #coordPair.push_back(lng)\n",
    "            newCoords.append(coordPair)\n",
    "    return(newCoords)"
   ]
  },
  {
   "cell_type": "code",
   "execution_count": null,
   "metadata": {},
   "outputs": [],
   "source": [
    "#Function testing\n",
    "print(convertToPairs(circle))"
   ]
  },
  {
   "cell_type": "code",
   "execution_count": null,
   "metadata": {},
   "outputs": [],
   "source": [
    "#Plot coords\n",
    "def plotCoords(circle):\n",
    "    fig = gmaps.figure()\n",
    "    locations = convertToPairs(circle)\n",
    "    symbols = gmaps.symbol_layer(\n",
    "            locations, fill_color='red', stroke_color='red')\n",
    "    fig.add_layer(symbols)\n",
    "    return fig"
   ]
  },
  {
   "cell_type": "code",
   "execution_count": null,
   "metadata": {},
   "outputs": [],
   "source": [
    "#Testing function\n",
    "#plotCoords(circle)"
   ]
  },
  {
   "cell_type": "code",
   "execution_count": null,
   "metadata": {},
   "outputs": [],
   "source": [
    "def plotArea(address, circle):\n",
    "    coords = convertToPairs(circle)\n",
    "    fig = gmaps.figure(center=getGeoCodes(address), zoom_level=11)\n",
    "    drawing = gmaps.drawing_layer(features=[\n",
    "         gmaps.Polygon(\n",
    "             coords,\n",
    "             fill_color='red',\n",
    "         )\n",
    "    ],\n",
    "                                 show_controls=False)\n",
    "    fig.add_layer(drawing)\n",
    "    return fig"
   ]
  },
  {
   "cell_type": "code",
   "execution_count": null,
   "metadata": {
    "scrolled": true
   },
   "outputs": [],
   "source": [
    "address = 'XXXX'\n",
    "circle = getCircle(address)\n",
    "plotArea(address, circle)"
   ]
  }
 ],
 "metadata": {
  "kernelspec": {
   "display_name": "Python 3 (ipykernel)",
   "language": "python",
   "name": "python3"
  },
  "language_info": {
   "codemirror_mode": {
    "name": "ipython",
    "version": 3
   },
   "file_extension": ".py",
   "mimetype": "text/x-python",
   "name": "python",
   "nbconvert_exporter": "python",
   "pygments_lexer": "ipython3",
   "version": "3.7.11"
  }
 },
 "nbformat": 4,
 "nbformat_minor": 2
}
